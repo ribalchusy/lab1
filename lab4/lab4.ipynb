{
  "nbformat": 4,
  "nbformat_minor": 0,
  "metadata": {
    "colab": {
      "provenance": [],
      "authorship_tag": "ABX9TyPrGC0BahTNbjCtaherzQ3a",
      "include_colab_link": true
    },
    "kernelspec": {
      "name": "python3",
      "display_name": "Python 3"
    },
    "language_info": {
      "name": "python"
    }
  },
  "cells": [
    {
      "cell_type": "markdown",
      "metadata": {
        "id": "view-in-github",
        "colab_type": "text"
      },
      "source": [
        "<a href=\"https://colab.research.google.com/github/ribalchusy/machine-learning/blob/main/lab4.ipynb\" target=\"_parent\"><img src=\"https://colab.research.google.com/assets/colab-badge.svg\" alt=\"Open In Colab\"/></a>"
      ]
    },
    {
      "cell_type": "markdown",
      "source": [
        "# Лабораторная работа №5: Методы, основанные на деревьях решений. Регрессионные деревья. Деревья классификации. Случайный лес. Бустинг.\n",
        "\n",
        "В практических примерах ниже показано:\n",
        "\n",
        "*   как делать перекодировку признаков в номинальной и порядковой шкалах\n",
        "*   как вырастить дерево и сделать обрезку его ветвей\n",
        "*   как настроить модель бэггинга\n",
        "*   как вырастить случайный лес\n",
        "*   как настроить модель бустинга на деревьях решений\n",
        "*   как подбирать настроенные параметры моделей методом сеточного поиска Точность всех моделей оценивается методом перекрёстной проверки по 5 блокам."
      ],
      "metadata": {
        "id": "f5iYmL7cs9FS"
      }
    },
    {
      "cell_type": "markdown",
      "source": [
        "# Загружаем пакеты"
      ],
      "metadata": {
        "id": "Z4V_dwTjtmwn"
      }
    },
    {
      "cell_type": "code",
      "execution_count": null,
      "metadata": {
        "id": "r3vVjjunixG0",
        "colab": {
          "base_uri": "https://localhost:8080/"
        },
        "outputId": "a3b7a929-f7a9-4066-83a9-a71c2cd060e0"
      },
      "outputs": [
        {
          "output_type": "stream",
          "name": "stdout",
          "text": [
            "1.2.2\n"
          ]
        }
      ],
      "source": [
        "import sklearn\n",
        "print(sklearn.__version__)"
      ]
    },
    {
      "cell_type": "code",
      "source": [
        "# загрузка пакетов: инструменты --------------------------------------------\n",
        "# работа с массивами\n",
        "import numpy as np\n",
        "# фреймы данных\n",
        "import pandas as pd\n",
        "# графики\n",
        "import matplotlib as mpl\n",
        "# стили и шаблоны графиков на основе matplotlib\n",
        "import seaborn as sns\n",
        "# загрузка файлов по URL\n",
        "import urllib\n",
        "# проверка существования файла на диске\n",
        "from pathlib import Path\n",
        "# для форматирования результатов с помощью Markdown\n",
        "from IPython.display import Markdown, display\n",
        "# перекодировка категориальных переменных\n",
        "from sklearn.preprocessing import OrdinalEncoder, OneHotEncoder\n",
        "# хи-квадрат тест на независимость по таблице сопряжённости\n",
        "from scipy.stats import chi2_contingency\n",
        "# для таймера\n",
        "import time\n",
        "# загрузка пакетов: данные -------------------------------------------------\n",
        "from sklearn import datasets\n",
        "# загрузка пакетов: модели -------------------------------------------------\n",
        "# дерево классификации\n",
        "from sklearn.tree import DecisionTreeClassifier, plot_tree, export_text\n",
        "# перекрёстная проверка и метод проверочной выборки\n",
        "from sklearn.model_selection import cross_val_score, train_test_split\n",
        "# для перекрёстной проверки и сеточного поиска\n",
        "from sklearn.model_selection import KFold, GridSearchCV\n",
        "# бэггинг\n",
        "from sklearn.ensemble import BaggingClassifier\n",
        "# случайный лес\n",
        "from sklearn.ensemble import RandomForestClassifier\n",
        "# бустинг\n",
        "from sklearn.ensemble import GradientBoostingClassifier\n",
        "# сводка по точности классификации\n",
        "from sklearn.metrics import classification_report"
      ],
      "metadata": {
        "id": "KU4KiZPajqkD"
      },
      "execution_count": null,
      "outputs": []
    },
    {
      "cell_type": "code",
      "source": [
        "# константы\n",
        "# ядро для генератора случайных чисел\n",
        "my_seed = 15\n",
        "# создаём псевдоним для короткого обращения к графикам\n",
        "plt = mpl.pyplot\n",
        "# настройка стиля и отображения графиков\n",
        "# примеры стилей и шаблонов графиков:\n",
        "# http://tonysyu.github.io/raw_content/matplotlib-style-gallery/gallery.html\n",
        "mpl.style.use('seaborn-whitegrid')\n",
        "sns.set_palette(\"Set2\")\n",
        "# раскомментируйте следующую строку, чтобы посмотреть палитру"
      ],
      "metadata": {
        "colab": {
          "base_uri": "https://localhost:8080/"
        },
        "id": "FMpKie_Yjqml",
        "outputId": "d29ba403-62b9-46dc-af6a-11d282577ac1"
      },
      "execution_count": null,
      "outputs": [
        {
          "output_type": "stream",
          "name": "stderr",
          "text": [
            "<ipython-input-3-5fbb62c968c8>:9: MatplotlibDeprecationWarning: The seaborn styles shipped by Matplotlib are deprecated since 3.6, as they no longer correspond to the styles shipped by seaborn. However, they will remain available as 'seaborn-v0_8-<style>'. Alternatively, directly use the seaborn API instead.\n",
            "  mpl.style.use('seaborn-whitegrid')\n"
          ]
        }
      ]
    },
    {
      "cell_type": "code",
      "source": [
        "# функция форматирования результатов с использованием Markdown\n",
        "def printmd(string):\n",
        " display(Markdown(string))\n",
        "\n",
        "# функции для попарной конкатенации элементов двух списков\n",
        "concat_func_md = lambda x, y: '`' + str(x) + \"`:&ensp;&ensp;&ensp;&ensp;\" + str(y)\n",
        "concat_func = lambda x, y: str(x) + ' ' * 4 + str(y)\n",
        "# функция, которая строит график важности признаков в модели случайного леса\n",
        "# источник: https://www.analyseup.com/learn-python-for-data-science/python-rand\n",
        "def plot_feature_importance(importance, names, model_type):\n",
        " #Create arrays from feature importance and feature names\n",
        " feature_importance = np.array(importance)\n",
        " feature_names = np.array(names)\n",
        " #Create a DataFrame using a Dictionary\n",
        " data={'feature_names':feature_names,'feature_importance':feature_importance}\n",
        " fi_df = pd.DataFrame(data)\n",
        " #Sort the DataFrame in order decreasing feature importance\n",
        " fi_df.sort_values(by=['feature_importance'], ascending=False,\n",
        " inplace=True)\n",
        " #Define size of bar plot\n",
        " plt.figure(figsize=(10,8))\n",
        " #Plot Searborn bar chart\n",
        " sns.barplot(x=fi_df['feature_importance'], y=fi_df['feature_names'])\n",
        " #Add chart labels\n",
        " plt.title('Важность признаков в модели: ' + model_type)\n",
        " plt.xlabel('Важность признака')\n",
        " plt.ylabel('')"
      ],
      "metadata": {
        "id": "BNvWhj2pjqo8"
      },
      "execution_count": null,
      "outputs": []
    },
    {
      "cell_type": "markdown",
      "source": [
        "# Загружаем данные:"
      ],
      "metadata": {
        "id": "DXUNPOr7twSr"
      }
    },
    {
      "cell_type": "code",
      "source": [
        "# загружаем таблицу и превращаем её во фрейм\n",
        "fileURL = 'default_of_credit_card_clients.csv'\n",
        "DF_all = pd.read_csv(fileURL)\n",
        "# выясняем размерность фрейма\n",
        "print('Число строк и столбцов в наборе данных:\\n', DF_all.shape)"
      ],
      "metadata": {
        "colab": {
          "base_uri": "https://localhost:8080/"
        },
        "id": "sdwAemIjj-Y-",
        "outputId": "76a18338-20db-42e4-8f90-fdce42f9cc36"
      },
      "execution_count": null,
      "outputs": [
        {
          "output_type": "stream",
          "name": "stdout",
          "text": [
            "Число строк и столбцов в наборе данных:\n",
            " (30000, 24)\n"
          ]
        }
      ]
    },
    {
      "cell_type": "markdown",
      "source": [
        "# Откладываем 15% наблюдений для прогноза\n",
        "\n",
        "*   оставляем только нужные перменные\n"
      ],
      "metadata": {
        "id": "PmpbMSFvt13o"
      }
    },
    {
      "cell_type": "code",
      "source": [
        "# оставляем в наборе данных только то, что нужно\n",
        "DF_all = DF_all[['Y' , 'LIMIT_BAL' , 'SEX' , 'EDUCATION' , 'MARRIAGE' , 'AGE' , 'PAY_0' , 'PAY_2' , 'PAY_3' ,'BILL_AMT1' , 'BILL_AMT2' , 'BILL_AMT3' , 'PAY_AMT1' ,  'PAY_AMT2'  , 'PAY_AMT3']]\n",
        "DF_all.head(5)"
      ],
      "metadata": {
        "colab": {
          "base_uri": "https://localhost:8080/",
          "height": 226
        },
        "id": "HFz4IHGZww2B",
        "outputId": "e1ab0437-0e14-446f-ec3b-dc4e06e875cd"
      },
      "execution_count": null,
      "outputs": [
        {
          "output_type": "execute_result",
          "data": {
            "text/plain": [
              "   Y  LIMIT_BAL  SEX  EDUCATION  MARRIAGE  AGE  PAY_0  PAY_2  PAY_3  \\\n",
              "0  1      20000    2          2         1   24      2      2     -1   \n",
              "1  1     120000    2          2         2   26     -1      2      0   \n",
              "2  0      90000    2          2         2   34      0      0      0   \n",
              "3  0      50000    2          2         1   37      0      0      0   \n",
              "4  0      50000    1          2         1   57     -1      0     -1   \n",
              "\n",
              "   BILL_AMT1  BILL_AMT2  BILL_AMT3  PAY_AMT1  PAY_AMT2  PAY_AMT3  \n",
              "0       3913       3102        689         0       689         0  \n",
              "1       2682       1725       2682         0      1000      1000  \n",
              "2      29239      14027      13559      1518      1500      1000  \n",
              "3      46990      48233      49291      2000      2019      1200  \n",
              "4       8617       5670      35835      2000     36681     10000  "
            ],
            "text/html": [
              "\n",
              "  <div id=\"df-9c896ccd-a7f8-40b1-a71a-7154bdbc26c5\" class=\"colab-df-container\">\n",
              "    <div>\n",
              "<style scoped>\n",
              "    .dataframe tbody tr th:only-of-type {\n",
              "        vertical-align: middle;\n",
              "    }\n",
              "\n",
              "    .dataframe tbody tr th {\n",
              "        vertical-align: top;\n",
              "    }\n",
              "\n",
              "    .dataframe thead th {\n",
              "        text-align: right;\n",
              "    }\n",
              "</style>\n",
              "<table border=\"1\" class=\"dataframe\">\n",
              "  <thead>\n",
              "    <tr style=\"text-align: right;\">\n",
              "      <th></th>\n",
              "      <th>Y</th>\n",
              "      <th>LIMIT_BAL</th>\n",
              "      <th>SEX</th>\n",
              "      <th>EDUCATION</th>\n",
              "      <th>MARRIAGE</th>\n",
              "      <th>AGE</th>\n",
              "      <th>PAY_0</th>\n",
              "      <th>PAY_2</th>\n",
              "      <th>PAY_3</th>\n",
              "      <th>BILL_AMT1</th>\n",
              "      <th>BILL_AMT2</th>\n",
              "      <th>BILL_AMT3</th>\n",
              "      <th>PAY_AMT1</th>\n",
              "      <th>PAY_AMT2</th>\n",
              "      <th>PAY_AMT3</th>\n",
              "    </tr>\n",
              "  </thead>\n",
              "  <tbody>\n",
              "    <tr>\n",
              "      <th>0</th>\n",
              "      <td>1</td>\n",
              "      <td>20000</td>\n",
              "      <td>2</td>\n",
              "      <td>2</td>\n",
              "      <td>1</td>\n",
              "      <td>24</td>\n",
              "      <td>2</td>\n",
              "      <td>2</td>\n",
              "      <td>-1</td>\n",
              "      <td>3913</td>\n",
              "      <td>3102</td>\n",
              "      <td>689</td>\n",
              "      <td>0</td>\n",
              "      <td>689</td>\n",
              "      <td>0</td>\n",
              "    </tr>\n",
              "    <tr>\n",
              "      <th>1</th>\n",
              "      <td>1</td>\n",
              "      <td>120000</td>\n",
              "      <td>2</td>\n",
              "      <td>2</td>\n",
              "      <td>2</td>\n",
              "      <td>26</td>\n",
              "      <td>-1</td>\n",
              "      <td>2</td>\n",
              "      <td>0</td>\n",
              "      <td>2682</td>\n",
              "      <td>1725</td>\n",
              "      <td>2682</td>\n",
              "      <td>0</td>\n",
              "      <td>1000</td>\n",
              "      <td>1000</td>\n",
              "    </tr>\n",
              "    <tr>\n",
              "      <th>2</th>\n",
              "      <td>0</td>\n",
              "      <td>90000</td>\n",
              "      <td>2</td>\n",
              "      <td>2</td>\n",
              "      <td>2</td>\n",
              "      <td>34</td>\n",
              "      <td>0</td>\n",
              "      <td>0</td>\n",
              "      <td>0</td>\n",
              "      <td>29239</td>\n",
              "      <td>14027</td>\n",
              "      <td>13559</td>\n",
              "      <td>1518</td>\n",
              "      <td>1500</td>\n",
              "      <td>1000</td>\n",
              "    </tr>\n",
              "    <tr>\n",
              "      <th>3</th>\n",
              "      <td>0</td>\n",
              "      <td>50000</td>\n",
              "      <td>2</td>\n",
              "      <td>2</td>\n",
              "      <td>1</td>\n",
              "      <td>37</td>\n",
              "      <td>0</td>\n",
              "      <td>0</td>\n",
              "      <td>0</td>\n",
              "      <td>46990</td>\n",
              "      <td>48233</td>\n",
              "      <td>49291</td>\n",
              "      <td>2000</td>\n",
              "      <td>2019</td>\n",
              "      <td>1200</td>\n",
              "    </tr>\n",
              "    <tr>\n",
              "      <th>4</th>\n",
              "      <td>0</td>\n",
              "      <td>50000</td>\n",
              "      <td>1</td>\n",
              "      <td>2</td>\n",
              "      <td>1</td>\n",
              "      <td>57</td>\n",
              "      <td>-1</td>\n",
              "      <td>0</td>\n",
              "      <td>-1</td>\n",
              "      <td>8617</td>\n",
              "      <td>5670</td>\n",
              "      <td>35835</td>\n",
              "      <td>2000</td>\n",
              "      <td>36681</td>\n",
              "      <td>10000</td>\n",
              "    </tr>\n",
              "  </tbody>\n",
              "</table>\n",
              "</div>\n",
              "    <div class=\"colab-df-buttons\">\n",
              "\n",
              "  <div class=\"colab-df-container\">\n",
              "    <button class=\"colab-df-convert\" onclick=\"convertToInteractive('df-9c896ccd-a7f8-40b1-a71a-7154bdbc26c5')\"\n",
              "            title=\"Convert this dataframe to an interactive table.\"\n",
              "            style=\"display:none;\">\n",
              "\n",
              "  <svg xmlns=\"http://www.w3.org/2000/svg\" height=\"24px\" viewBox=\"0 -960 960 960\">\n",
              "    <path d=\"M120-120v-720h720v720H120Zm60-500h600v-160H180v160Zm220 220h160v-160H400v160Zm0 220h160v-160H400v160ZM180-400h160v-160H180v160Zm440 0h160v-160H620v160ZM180-180h160v-160H180v160Zm440 0h160v-160H620v160Z\"/>\n",
              "  </svg>\n",
              "    </button>\n",
              "\n",
              "  <style>\n",
              "    .colab-df-container {\n",
              "      display:flex;\n",
              "      gap: 12px;\n",
              "    }\n",
              "\n",
              "    .colab-df-convert {\n",
              "      background-color: #E8F0FE;\n",
              "      border: none;\n",
              "      border-radius: 50%;\n",
              "      cursor: pointer;\n",
              "      display: none;\n",
              "      fill: #1967D2;\n",
              "      height: 32px;\n",
              "      padding: 0 0 0 0;\n",
              "      width: 32px;\n",
              "    }\n",
              "\n",
              "    .colab-df-convert:hover {\n",
              "      background-color: #E2EBFA;\n",
              "      box-shadow: 0px 1px 2px rgba(60, 64, 67, 0.3), 0px 1px 3px 1px rgba(60, 64, 67, 0.15);\n",
              "      fill: #174EA6;\n",
              "    }\n",
              "\n",
              "    .colab-df-buttons div {\n",
              "      margin-bottom: 4px;\n",
              "    }\n",
              "\n",
              "    [theme=dark] .colab-df-convert {\n",
              "      background-color: #3B4455;\n",
              "      fill: #D2E3FC;\n",
              "    }\n",
              "\n",
              "    [theme=dark] .colab-df-convert:hover {\n",
              "      background-color: #434B5C;\n",
              "      box-shadow: 0px 1px 3px 1px rgba(0, 0, 0, 0.15);\n",
              "      filter: drop-shadow(0px 1px 2px rgba(0, 0, 0, 0.3));\n",
              "      fill: #FFFFFF;\n",
              "    }\n",
              "  </style>\n",
              "\n",
              "    <script>\n",
              "      const buttonEl =\n",
              "        document.querySelector('#df-9c896ccd-a7f8-40b1-a71a-7154bdbc26c5 button.colab-df-convert');\n",
              "      buttonEl.style.display =\n",
              "        google.colab.kernel.accessAllowed ? 'block' : 'none';\n",
              "\n",
              "      async function convertToInteractive(key) {\n",
              "        const element = document.querySelector('#df-9c896ccd-a7f8-40b1-a71a-7154bdbc26c5');\n",
              "        const dataTable =\n",
              "          await google.colab.kernel.invokeFunction('convertToInteractive',\n",
              "                                                    [key], {});\n",
              "        if (!dataTable) return;\n",
              "\n",
              "        const docLinkHtml = 'Like what you see? Visit the ' +\n",
              "          '<a target=\"_blank\" href=https://colab.research.google.com/notebooks/data_table.ipynb>data table notebook</a>'\n",
              "          + ' to learn more about interactive tables.';\n",
              "        element.innerHTML = '';\n",
              "        dataTable['output_type'] = 'display_data';\n",
              "        await google.colab.output.renderOutput(dataTable, element);\n",
              "        const docLink = document.createElement('div');\n",
              "        docLink.innerHTML = docLinkHtml;\n",
              "        element.appendChild(docLink);\n",
              "      }\n",
              "    </script>\n",
              "  </div>\n",
              "\n",
              "\n",
              "<div id=\"df-2cf0f81a-40a2-4ca1-b7dd-388b3c8435ff\">\n",
              "  <button class=\"colab-df-quickchart\" onclick=\"quickchart('df-2cf0f81a-40a2-4ca1-b7dd-388b3c8435ff')\"\n",
              "            title=\"Suggest charts\"\n",
              "            style=\"display:none;\">\n",
              "\n",
              "<svg xmlns=\"http://www.w3.org/2000/svg\" height=\"24px\"viewBox=\"0 0 24 24\"\n",
              "     width=\"24px\">\n",
              "    <g>\n",
              "        <path d=\"M19 3H5c-1.1 0-2 .9-2 2v14c0 1.1.9 2 2 2h14c1.1 0 2-.9 2-2V5c0-1.1-.9-2-2-2zM9 17H7v-7h2v7zm4 0h-2V7h2v10zm4 0h-2v-4h2v4z\"/>\n",
              "    </g>\n",
              "</svg>\n",
              "  </button>\n",
              "\n",
              "<style>\n",
              "  .colab-df-quickchart {\n",
              "      --bg-color: #E8F0FE;\n",
              "      --fill-color: #1967D2;\n",
              "      --hover-bg-color: #E2EBFA;\n",
              "      --hover-fill-color: #174EA6;\n",
              "      --disabled-fill-color: #AAA;\n",
              "      --disabled-bg-color: #DDD;\n",
              "  }\n",
              "\n",
              "  [theme=dark] .colab-df-quickchart {\n",
              "      --bg-color: #3B4455;\n",
              "      --fill-color: #D2E3FC;\n",
              "      --hover-bg-color: #434B5C;\n",
              "      --hover-fill-color: #FFFFFF;\n",
              "      --disabled-bg-color: #3B4455;\n",
              "      --disabled-fill-color: #666;\n",
              "  }\n",
              "\n",
              "  .colab-df-quickchart {\n",
              "    background-color: var(--bg-color);\n",
              "    border: none;\n",
              "    border-radius: 50%;\n",
              "    cursor: pointer;\n",
              "    display: none;\n",
              "    fill: var(--fill-color);\n",
              "    height: 32px;\n",
              "    padding: 0;\n",
              "    width: 32px;\n",
              "  }\n",
              "\n",
              "  .colab-df-quickchart:hover {\n",
              "    background-color: var(--hover-bg-color);\n",
              "    box-shadow: 0 1px 2px rgba(60, 64, 67, 0.3), 0 1px 3px 1px rgba(60, 64, 67, 0.15);\n",
              "    fill: var(--button-hover-fill-color);\n",
              "  }\n",
              "\n",
              "  .colab-df-quickchart-complete:disabled,\n",
              "  .colab-df-quickchart-complete:disabled:hover {\n",
              "    background-color: var(--disabled-bg-color);\n",
              "    fill: var(--disabled-fill-color);\n",
              "    box-shadow: none;\n",
              "  }\n",
              "\n",
              "  .colab-df-spinner {\n",
              "    border: 2px solid var(--fill-color);\n",
              "    border-color: transparent;\n",
              "    border-bottom-color: var(--fill-color);\n",
              "    animation:\n",
              "      spin 1s steps(1) infinite;\n",
              "  }\n",
              "\n",
              "  @keyframes spin {\n",
              "    0% {\n",
              "      border-color: transparent;\n",
              "      border-bottom-color: var(--fill-color);\n",
              "      border-left-color: var(--fill-color);\n",
              "    }\n",
              "    20% {\n",
              "      border-color: transparent;\n",
              "      border-left-color: var(--fill-color);\n",
              "      border-top-color: var(--fill-color);\n",
              "    }\n",
              "    30% {\n",
              "      border-color: transparent;\n",
              "      border-left-color: var(--fill-color);\n",
              "      border-top-color: var(--fill-color);\n",
              "      border-right-color: var(--fill-color);\n",
              "    }\n",
              "    40% {\n",
              "      border-color: transparent;\n",
              "      border-right-color: var(--fill-color);\n",
              "      border-top-color: var(--fill-color);\n",
              "    }\n",
              "    60% {\n",
              "      border-color: transparent;\n",
              "      border-right-color: var(--fill-color);\n",
              "    }\n",
              "    80% {\n",
              "      border-color: transparent;\n",
              "      border-right-color: var(--fill-color);\n",
              "      border-bottom-color: var(--fill-color);\n",
              "    }\n",
              "    90% {\n",
              "      border-color: transparent;\n",
              "      border-bottom-color: var(--fill-color);\n",
              "    }\n",
              "  }\n",
              "</style>\n",
              "\n",
              "  <script>\n",
              "    async function quickchart(key) {\n",
              "      const quickchartButtonEl =\n",
              "        document.querySelector('#' + key + ' button');\n",
              "      quickchartButtonEl.disabled = true;  // To prevent multiple clicks.\n",
              "      quickchartButtonEl.classList.add('colab-df-spinner');\n",
              "      try {\n",
              "        const charts = await google.colab.kernel.invokeFunction(\n",
              "            'suggestCharts', [key], {});\n",
              "      } catch (error) {\n",
              "        console.error('Error during call to suggestCharts:', error);\n",
              "      }\n",
              "      quickchartButtonEl.classList.remove('colab-df-spinner');\n",
              "      quickchartButtonEl.classList.add('colab-df-quickchart-complete');\n",
              "    }\n",
              "    (() => {\n",
              "      let quickchartButtonEl =\n",
              "        document.querySelector('#df-2cf0f81a-40a2-4ca1-b7dd-388b3c8435ff button');\n",
              "      quickchartButtonEl.style.display =\n",
              "        google.colab.kernel.accessAllowed ? 'block' : 'none';\n",
              "    })();\n",
              "  </script>\n",
              "</div>\n",
              "\n",
              "    </div>\n",
              "  </div>\n"
            ],
            "application/vnd.google.colaboratory.intrinsic+json": {
              "type": "dataframe",
              "variable_name": "DF_all",
              "summary": "{\n  \"name\": \"DF_all\",\n  \"rows\": 30000,\n  \"fields\": [\n    {\n      \"column\": \"Y\",\n      \"properties\": {\n        \"dtype\": \"number\",\n        \"std\": 0,\n        \"min\": 0,\n        \"max\": 1,\n        \"num_unique_values\": 2,\n        \"samples\": [\n          0,\n          1\n        ],\n        \"semantic_type\": \"\",\n        \"description\": \"\"\n      }\n    },\n    {\n      \"column\": \"LIMIT_BAL\",\n      \"properties\": {\n        \"dtype\": \"number\",\n        \"std\": 129747,\n        \"min\": 10000,\n        \"max\": 1000000,\n        \"num_unique_values\": 81,\n        \"samples\": [\n          340000,\n          20000\n        ],\n        \"semantic_type\": \"\",\n        \"description\": \"\"\n      }\n    },\n    {\n      \"column\": \"SEX\",\n      \"properties\": {\n        \"dtype\": \"number\",\n        \"std\": 0,\n        \"min\": 1,\n        \"max\": 2,\n        \"num_unique_values\": 2,\n        \"samples\": [\n          1,\n          2\n        ],\n        \"semantic_type\": \"\",\n        \"description\": \"\"\n      }\n    },\n    {\n      \"column\": \"EDUCATION\",\n      \"properties\": {\n        \"dtype\": \"number\",\n        \"std\": 0,\n        \"min\": 0,\n        \"max\": 6,\n        \"num_unique_values\": 7,\n        \"samples\": [\n          2,\n          1\n        ],\n        \"semantic_type\": \"\",\n        \"description\": \"\"\n      }\n    },\n    {\n      \"column\": \"MARRIAGE\",\n      \"properties\": {\n        \"dtype\": \"number\",\n        \"std\": 0,\n        \"min\": 0,\n        \"max\": 3,\n        \"num_unique_values\": 4,\n        \"samples\": [\n          2,\n          0\n        ],\n        \"semantic_type\": \"\",\n        \"description\": \"\"\n      }\n    },\n    {\n      \"column\": \"AGE\",\n      \"properties\": {\n        \"dtype\": \"number\",\n        \"std\": 9,\n        \"min\": 21,\n        \"max\": 79,\n        \"num_unique_values\": 56,\n        \"samples\": [\n          24,\n          29\n        ],\n        \"semantic_type\": \"\",\n        \"description\": \"\"\n      }\n    },\n    {\n      \"column\": \"PAY_0\",\n      \"properties\": {\n        \"dtype\": \"number\",\n        \"std\": 1,\n        \"min\": -2,\n        \"max\": 8,\n        \"num_unique_values\": 11,\n        \"samples\": [\n          3,\n          2\n        ],\n        \"semantic_type\": \"\",\n        \"description\": \"\"\n      }\n    },\n    {\n      \"column\": \"PAY_2\",\n      \"properties\": {\n        \"dtype\": \"number\",\n        \"std\": 1,\n        \"min\": -2,\n        \"max\": 8,\n        \"num_unique_values\": 11,\n        \"samples\": [\n          5,\n          2\n        ],\n        \"semantic_type\": \"\",\n        \"description\": \"\"\n      }\n    },\n    {\n      \"column\": \"PAY_3\",\n      \"properties\": {\n        \"dtype\": \"number\",\n        \"std\": 1,\n        \"min\": -2,\n        \"max\": 8,\n        \"num_unique_values\": 11,\n        \"samples\": [\n          4,\n          -1\n        ],\n        \"semantic_type\": \"\",\n        \"description\": \"\"\n      }\n    },\n    {\n      \"column\": \"BILL_AMT1\",\n      \"properties\": {\n        \"dtype\": \"number\",\n        \"std\": 73635,\n        \"min\": -165580,\n        \"max\": 964511,\n        \"num_unique_values\": 22723,\n        \"samples\": [\n          69716,\n          152924\n        ],\n        \"semantic_type\": \"\",\n        \"description\": \"\"\n      }\n    },\n    {\n      \"column\": \"BILL_AMT2\",\n      \"properties\": {\n        \"dtype\": \"number\",\n        \"std\": 71173,\n        \"min\": -69777,\n        \"max\": 983931,\n        \"num_unique_values\": 22346,\n        \"samples\": [\n          19751,\n          167536\n        ],\n        \"semantic_type\": \"\",\n        \"description\": \"\"\n      }\n    },\n    {\n      \"column\": \"BILL_AMT3\",\n      \"properties\": {\n        \"dtype\": \"number\",\n        \"std\": 69349,\n        \"min\": -157264,\n        \"max\": 1664089,\n        \"num_unique_values\": 22026,\n        \"samples\": [\n          97235,\n          18051\n        ],\n        \"semantic_type\": \"\",\n        \"description\": \"\"\n      }\n    },\n    {\n      \"column\": \"PAY_AMT1\",\n      \"properties\": {\n        \"dtype\": \"number\",\n        \"std\": 16563,\n        \"min\": 0,\n        \"max\": 873552,\n        \"num_unique_values\": 7943,\n        \"samples\": [\n          3509,\n          37\n        ],\n        \"semantic_type\": \"\",\n        \"description\": \"\"\n      }\n    },\n    {\n      \"column\": \"PAY_AMT2\",\n      \"properties\": {\n        \"dtype\": \"number\",\n        \"std\": 23040,\n        \"min\": 0,\n        \"max\": 1684259,\n        \"num_unique_values\": 7899,\n        \"samples\": [\n          9303,\n          120407\n        ],\n        \"semantic_type\": \"\",\n        \"description\": \"\"\n      }\n    },\n    {\n      \"column\": \"PAY_AMT3\",\n      \"properties\": {\n        \"dtype\": \"number\",\n        \"std\": 17606,\n        \"min\": 0,\n        \"max\": 896040,\n        \"num_unique_values\": 7518,\n        \"samples\": [\n          40009,\n          6919\n        ],\n        \"semantic_type\": \"\",\n        \"description\": \"\"\n      }\n    }\n  ]\n}"
            }
          },
          "metadata": {},
          "execution_count": 8
        }
      ]
    },
    {
      "cell_type": "code",
      "source": [
        "# наблюдения для моделирования\n",
        "DF = DF_all.sample(frac = 0.85, random_state = my_seed)\n",
        "# отложенные наблюдения\n",
        "DF_predict = DF_all.drop(DF.index)"
      ],
      "metadata": {
        "id": "82UUcYjzj-gK"
      },
      "execution_count": null,
      "outputs": []
    },
    {
      "cell_type": "code",
      "source": [
        "# типы столбцов фрейма\n",
        "DF.dtypes"
      ],
      "metadata": {
        "colab": {
          "base_uri": "https://localhost:8080/"
        },
        "id": "vX1yoHsOj-nQ",
        "outputId": "2e214a70-9105-4df4-8034-f71e6abce3f5"
      },
      "execution_count": null,
      "outputs": [
        {
          "output_type": "execute_result",
          "data": {
            "text/plain": [
              "Y            int64\n",
              "LIMIT_BAL    int64\n",
              "SEX          int64\n",
              "EDUCATION    int64\n",
              "MARRIAGE     int64\n",
              "AGE          int64\n",
              "PAY_0        int64\n",
              "PAY_2        int64\n",
              "PAY_3        int64\n",
              "BILL_AMT1    int64\n",
              "BILL_AMT2    int64\n",
              "BILL_AMT3    int64\n",
              "PAY_AMT1     int64\n",
              "PAY_AMT2     int64\n",
              "PAY_AMT3     int64\n",
              "dtype: object"
            ]
          },
          "metadata": {},
          "execution_count": 11
        }
      ]
    },
    {
      "cell_type": "code",
      "source": [
        "# считаем пропуски в каждом столбце\n",
        "DF.isna().sum()"
      ],
      "metadata": {
        "colab": {
          "base_uri": "https://localhost:8080/"
        },
        "id": "SQ5XbQ84j-qG",
        "outputId": "97ab3ed5-2cd1-47d0-9edd-fc8f8fbadbcd"
      },
      "execution_count": null,
      "outputs": [
        {
          "output_type": "execute_result",
          "data": {
            "text/plain": [
              "Y            0\n",
              "LIMIT_BAL    0\n",
              "SEX          0\n",
              "EDUCATION    0\n",
              "MARRIAGE     0\n",
              "AGE          0\n",
              "PAY_0        0\n",
              "PAY_2        0\n",
              "PAY_3        0\n",
              "BILL_AMT1    0\n",
              "BILL_AMT2    0\n",
              "BILL_AMT3    0\n",
              "PAY_AMT1     0\n",
              "PAY_AMT2     0\n",
              "PAY_AMT3     0\n",
              "dtype: int64"
            ]
          },
          "metadata": {},
          "execution_count": 12
        }
      ]
    },
    {
      "cell_type": "code",
      "source": [
        "# метки классов\n",
        "DF.Y.unique()"
      ],
      "metadata": {
        "id": "CtLvGj6ZlAce",
        "outputId": "a7758daf-fdbc-4ca7-efdd-075585d81a73",
        "colab": {
          "base_uri": "https://localhost:8080/"
        }
      },
      "execution_count": null,
      "outputs": [
        {
          "output_type": "execute_result",
          "data": {
            "text/plain": [
              "array([1, 0])"
            ]
          },
          "metadata": {},
          "execution_count": 13
        }
      ]
    },
    {
      "cell_type": "markdown",
      "source": [
        "# Модель дерева\n",
        "\n",
        "В этом разделе построим:\n",
        "\n",
        "*   дерево классификации\n",
        "*   дерево классификации с обрезкой ветвей"
      ],
      "metadata": {
        "id": "wKttua4iuFNP"
      }
    },
    {
      "cell_type": "markdown",
      "source": [
        "# Дерево на всех признаках\n",
        "Построим модель и выведем изображение дерева в виде текста."
      ],
      "metadata": {
        "id": "iDaHFtVnuNV6"
      }
    },
    {
      "cell_type": "code",
      "source": [
        "# выращиваем дерево на всех объясняющих\n",
        "X = DF.drop(['Y'], axis=1)\n",
        "y = DF['Y']\n",
        "# классификатор\n",
        "cls_one_tree = DecisionTreeClassifier(criterion='entropy',\n",
        " random_state=my_seed)\n",
        "tree_full = cls_one_tree.fit(X, y)\n",
        "# выводим количество листьев (количество узлов)\n",
        "tree_full.get_n_leaves()"
      ],
      "metadata": {
        "id": "cXJzcpovlAey",
        "colab": {
          "base_uri": "https://localhost:8080/"
        },
        "outputId": "7ebd2278-2360-4235-d514-765fc070740b"
      },
      "execution_count": null,
      "outputs": [
        {
          "output_type": "execute_result",
          "data": {
            "text/plain": [
              "4207"
            ]
          },
          "metadata": {},
          "execution_count": 14
        }
      ]
    },
    {
      "cell_type": "code",
      "source": [
        "# глубина дерева: количество узлов от корня до листа\n",
        "# в самой длинной ветви\n",
        "tree_full.get_depth()"
      ],
      "metadata": {
        "id": "kQFasWEHlAhB",
        "colab": {
          "base_uri": "https://localhost:8080/"
        },
        "outputId": "18ae9c44-03d2-45a0-c627-a7d80263e378"
      },
      "execution_count": null,
      "outputs": [
        {
          "output_type": "execute_result",
          "data": {
            "text/plain": [
              "49"
            ]
          },
          "metadata": {},
          "execution_count": 15
        }
      ]
    },
    {
      "cell_type": "markdown",
      "source": [
        "Очевидно, дерево получилось слишком большое для отображения в текстовом формате. Графическая визуализация тоже не поможет в данном случае. Посчитаем показатели точности с перекрёстной проверкой."
      ],
      "metadata": {
        "id": "nHbOiYcKuVN2"
      }
    },
    {
      "cell_type": "code",
      "source": [
        "# будем сохранять точность моделей в один массив:\n",
        "score = list()\n",
        "score_models = list()\n",
        "# считаем точность с перекрёстной проверкой, показатель Acc\n",
        "cv = cross_val_score(estimator=cls_one_tree, X=X, y=y, cv=5,\n",
        " scoring='accuracy')\n",
        "# записываем точность\n",
        "score.append(np.around(np.mean(cv), 3))\n",
        "score_models.append('one_tree')\n",
        "print('Acc с перекрёстной проверкой',\n",
        " '\\nдля модели', score_models[0], ':', score[0])"
      ],
      "metadata": {
        "id": "wX1bIoewlAjl",
        "colab": {
          "base_uri": "https://localhost:8080/"
        },
        "outputId": "62379579-b1e4-4ee2-a4c0-ddfe2c9dd6b1"
      },
      "execution_count": null,
      "outputs": [
        {
          "output_type": "stream",
          "name": "stdout",
          "text": [
            "Acc с перекрёстной проверкой \n",
            "для модели one_tree : 0.722\n"
          ]
        }
      ]
    },
    {
      "cell_type": "markdown",
      "source": [
        "# Дерево с обрезкой ветвей\n",
        "Подберём оптимальное количество ветвей, которое максимизирует , для экономии времени рассчитанный методом проверочной выборки."
      ],
      "metadata": {
        "id": "2rYp2OCKukCx"
      }
    },
    {
      "cell_type": "code",
      "source": [
        "# рассчитываем параметры alpha для эффективных вариантов обрезки ветвей\n",
        "path = cls_one_tree.cost_complexity_pruning_path(X, y)\n",
        "ccp_alphas, impurities = path.ccp_alphas, path.impurities\n",
        "print('Всего значений alpha:', len(ccp_alphas))\n",
        "print('Энтропия листьев для первых 5 значений alpha:', impurities[:5])"
      ],
      "metadata": {
        "colab": {
          "base_uri": "https://localhost:8080/"
        },
        "id": "KN4VKktdmufA",
        "outputId": "00edc48f-3cb8-4632-ac35-8a6d67d9bbdd"
      },
      "execution_count": null,
      "outputs": [
        {
          "output_type": "stream",
          "name": "stdout",
          "text": [
            "Всего значений alpha: 1728\n",
            "Энтропия листьев для первых 5 значений alpha: [0.00150058 0.00153409 0.00158292 0.00161253 0.00164213]\n"
          ]
        }
      ]
    },
    {
      "cell_type": "code",
      "source": [
        "# изображаем на графике\n",
        "plt.plot(ccp_alphas[:-1], impurities[:-1], marker='o', drawstyle=\"steps-post\")\n",
        "plt.xlabel(\"значение гиперпараметра alpha\")\n",
        "plt.ylabel(\"общая энтропия листьев дерева\")\n",
        "plt.title(\"Изменение показателя нечистоты узлов с ростом alpha\")\n",
        "plt.show()"
      ],
      "metadata": {
        "colab": {
          "base_uri": "https://localhost:8080/",
          "height": 465
        },
        "id": "sYMK-13mmuhd",
        "outputId": "4b1e958b-b4a4-4ccd-d452-91e2f88d6acf"
      },
      "execution_count": null,
      "outputs": [
        {
          "output_type": "display_data",
          "data": {
            "text/plain": [
              "<Figure size 640x480 with 1 Axes>"
            ],
            "image/png": "[encoded data removed]"
          },
          "metadata": {}
        }
      ]
    },
    {
      "cell_type": "code",
      "source": [
        "# обучающая и тестовая выборки, чтобы сэкономить время\n",
        "X_train, X_test, y_train, y_test = train_test_split(X, y,\n",
        " random_state=my_seed)\n",
        "# модели\n",
        "clfs = list()\n",
        "# таймер\n",
        "tic = time.perf_counter()\n",
        "# цикл по значениям alpha\n",
        "for ccp_alpha in ccp_alphas:\n",
        " clf = DecisionTreeClassifier(random_state=my_seed, ccp_alpha=ccp_alpha)\n",
        " clf.fit(X_train, y_train)\n",
        " clfs.append(clf)\n",
        "# таймер\n",
        "toc = time.perf_counter()\n",
        "print(f\"Расчёты по обрезке дерева заняли {toc - tic:0.2f} секунд\")"
      ],
      "metadata": {
        "id": "kNTbM0jOmujo",
        "colab": {
          "base_uri": "https://localhost:8080/"
        },
        "outputId": "d5efa854-0c7e-4b4a-e99e-dcb457da615c"
      },
      "execution_count": null,
      "outputs": [
        {
          "output_type": "stream",
          "name": "stdout",
          "text": [
            "Расчёты по обрезке дерева заняли 604.77 секунд\n"
          ]
        }
      ]
    },
    {
      "cell_type": "code",
      "source": [
        "# извлекаем характеристики глубины и точности\n",
        "# таймер\n",
        "tic = time.perf_counter()\n",
        "node_counts = [clf.tree_.node_count for clf in clfs]\n",
        "train_scores = [clf.score(X_train, y_train) for clf in clfs]\n",
        "test_scores = [clf.score(X_test, y_test) for clf in clfs]\n",
        "# таймер\n",
        "toc = time.perf_counter()\n",
        "print(f\"Расчёты показателей точности заняли {toc - tic:0.2f} секунд\")"
      ],
      "metadata": {
        "id": "LiWeawGYmumX",
        "colab": {
          "base_uri": "https://localhost:8080/"
        },
        "outputId": "11c73241-16a8-4146-f1a5-ce3f375a3656"
      },
      "execution_count": null,
      "outputs": [
        {
          "output_type": "stream",
          "name": "stdout",
          "text": [
            "Расчёты показателей точности заняли 24.42 секунд\n"
          ]
        }
      ]
    },
    {
      "cell_type": "code",
      "source": [
        "# изображаем на графике\n",
        "fig, ax = plt.subplots(1, 2)\n",
        "# график глубины дерева\n",
        "ax[0].plot(ccp_alphas, node_counts, marker=',', drawstyle=\"steps-post\")\n",
        "ax[0].set_xlabel(\"значение гиперпараметра alpha\")\n",
        "ax[0].set_ylabel(\"количество узлов\")\n",
        "ax[0].set_title(\"Сложность модели vs alpha\")\n",
        "# график точности\n",
        "ax[1].plot(ccp_alphas, train_scores, marker=',', label='train',\n",
        " drawstyle=\"steps-post\")\n",
        "ax[1].plot(ccp_alphas, test_scores, marker=',', label='test',\n",
        " drawstyle=\"steps-post\")\n",
        "ax[1].set_xlabel(\"значение гиперпараметра alpha\")\n",
        "ax[1].set_ylabel(\"Acc\")\n",
        "ax[1].set_title(\"Точность модели vs alpha\")\n",
        "fig.tight_layout()"
      ],
      "metadata": {
        "id": "-zl71ijNovCI",
        "colab": {
          "base_uri": "https://localhost:8080/",
          "height": 487
        },
        "outputId": "fb4dde1b-0670-46f3-d655-6d398180d651"
      },
      "execution_count": null,
      "outputs": [
        {
          "output_type": "display_data",
          "data": {
            "text/plain": [
              "<Figure size 640x480 with 2 Axes>"
            ],
            "image/png": "[encoded data removed]"
          },
          "metadata": {}
        }
      ]
    },
    {
      "cell_type": "markdown",
      "source": [
        "Находим оптимальный размер дерева по максимуму на тестовой выборке."
      ],
      "metadata": {
        "id": "xoGItu1tuvl-"
      }
    },
    {
      "cell_type": "code",
      "source": [
        "# оптимальное количество узлов\n",
        "opt_nodes_num = node_counts[test_scores.index(max(test_scores))]\n",
        "# считаем точность с перекрёстной проверкой, показатель Acc\n",
        "cv = cross_val_score(estimator=clfs[opt_nodes_num], X=X, y=y, cv=5,\n",
        " scoring='accuracy')\n",
        "# записываем точность\n",
        "score.append(np.around(np.mean(cv), 3))\n",
        "score_models.append('pruned_tree')\n",
        "print('Оптимальное количество узлов:', opt_nodes_num,\n",
        " '\\nсоответствующая Acc на тестовой:', np.around(max(test_scores), 3),\n",
        " '\\n\\nAcc с перекрёстной проверкой',\n",
        " '\\nдля модели', score_models[1], ':', score[1])"
      ],
      "metadata": {
        "id": "y-N2HokjovEg",
        "colab": {
          "base_uri": "https://localhost:8080/"
        },
        "outputId": "bf48f50a-47e6-4395-c026-3127cf3304b4"
      },
      "execution_count": null,
      "outputs": [
        {
          "output_type": "stream",
          "name": "stdout",
          "text": [
            "Оптимальное количество узлов: 21 \n",
            "соответствующая Acc на тестовой: 0.819 \n",
            "\n",
            "Acc с перекрёстной проверкой \n",
            "для модели pruned_tree : 0.737\n"
          ]
        }
      ]
    },
    {
      "cell_type": "markdown",
      "source": [
        "Посмотрим на характеристики глубины и сложности построенного дерева с обрезкой ветвей."
      ],
      "metadata": {
        "id": "eJxnoV9zu1uO"
      }
    },
    {
      "cell_type": "code",
      "source": [
        "# выводим количество листьев (количество узлов)\n",
        "clfs[opt_nodes_num].get_n_leaves()"
      ],
      "metadata": {
        "id": "WxJwP4JRovHG",
        "colab": {
          "base_uri": "https://localhost:8080/"
        },
        "outputId": "89071906-2866-4c5b-c2b1-72956cbd5e95"
      },
      "execution_count": null,
      "outputs": [
        {
          "output_type": "execute_result",
          "data": {
            "text/plain": [
              "2748"
            ]
          },
          "metadata": {},
          "execution_count": 23
        }
      ]
    },
    {
      "cell_type": "code",
      "source": [
        "# глубина дерева: количество узлов от корня до листа\n",
        "# в самой длинной ветви\n",
        "clfs[opt_nodes_num].get_depth()"
      ],
      "metadata": {
        "id": "7W3Ymi-ZovJ0",
        "colab": {
          "base_uri": "https://localhost:8080/"
        },
        "outputId": "68b1753b-1474-4e4e-e179-0b6702237829"
      },
      "execution_count": null,
      "outputs": [
        {
          "output_type": "execute_result",
          "data": {
            "text/plain": [
              "38"
            ]
          },
          "metadata": {},
          "execution_count": 24
        }
      ]
    },
    {
      "cell_type": "markdown",
      "source": [
        "# Бустинг\n",
        "Подберём сеточным поиском настроечные параметры модели:\n",
        "\n",
        "B число деревьев\n",
        "\n",
        "\n",
        "*   λ – скорость обучения\n",
        "*   d – глубина взаимодействия предикторов"
      ],
      "metadata": {
        "id": "P0kRiTCKu9Ya"
      }
    },
    {
      "cell_type": "code",
      "source": [
        "# разбиения для перекрёстной проверки\n",
        "kfold = KFold(n_splits=5, random_state=my_seed, shuffle=True)\n",
        "# обучаем модель с параметрами по умолчанию\n",
        "clf_tst = GradientBoostingClassifier(n_estimators=100, learning_rate=1.0,\n",
        " max_depth=1, random_state=my_seed)\n",
        "cv = cross_val_score(clf_tst, X, y, cv=kfold, scoring='accuracy')\n",
        "np.around(np.mean(cv), 3)"
      ],
      "metadata": {
        "id": "xVCh7fxIsUzH",
        "colab": {
          "base_uri": "https://localhost:8080/"
        },
        "outputId": "fb1869cb-b324-4989-ab00-3dfc05560daf"
      },
      "execution_count": null,
      "outputs": [
        {
          "output_type": "execute_result",
          "data": {
            "text/plain": [
              "0.819"
            ]
          },
          "metadata": {},
          "execution_count": 25
        }
      ]
    },
    {
      "cell_type": "code",
      "source": [
        "# настроим параметры бустинга с помощью сеточного поиска\n",
        "param_grid = {'n_estimators' : [10, 20, 30, 40, 50],\n",
        " 'learning_rate' : np.linspace(start=0.01, stop=0.25, num=15),\n",
        " 'max_depth' : [1, 2]}\n",
        "# таймер\n",
        "tic = time.perf_counter()\n",
        "clf = GridSearchCV(GradientBoostingClassifier(),\n",
        " param_grid, scoring='accuracy', cv=kfold)\n",
        "boost_tree = clf.fit(X, y)\n",
        "# таймер\n",
        "toc = time.perf_counter()\n",
        "print(f\"Сеточный поиск занял {toc - tic:0.2f} секунд\", sep='')"
      ],
      "metadata": {
        "id": "B9UfoPDgsU1f",
        "colab": {
          "base_uri": "https://localhost:8080/"
        },
        "outputId": "0edb8f4a-a9de-4cde-9a94-440924834fdc"
      },
      "execution_count": 26,
      "outputs": [
        {
          "output_type": "stream",
          "name": "stdout",
          "text": [
            "Сеточный поиск занял 701.24 секунд\n"
          ]
        }
      ]
    },
    {
      "cell_type": "code",
      "source": [
        "# точность лучшей модели\n",
        "np.around(boost_tree.best_score_, 3)"
      ],
      "metadata": {
        "id": "8lk3L0xwsU4C",
        "colab": {
          "base_uri": "https://localhost:8080/"
        },
        "outputId": "ac7239e1-f9a6-4bbd-f7d5-6dd8dc287b2e"
      },
      "execution_count": 27,
      "outputs": [
        {
          "data": {
            "text/plain": [
              "0.822"
            ]
          },
          "execution_count": 27,
          "metadata": {},
          "output_type": "execute_result"
        }
      ]
    },
    {
      "cell_type": "code",
      "source": [
        "# параметры лучшей модели\n",
        "print('n_estimators:',\n",
        " boost_tree.best_estimator_.get_params()['n_estimators'],\n",
        " '\\nlearning_rate:',\n",
        " boost_tree.best_estimator_.get_params()['learning_rate'],\n",
        " '\\nmax_depth:',\n",
        " boost_tree.best_estimator_.get_params()['max_depth'])"
      ],
      "metadata": {
        "id": "927gCjhWsvCi",
        "colab": {
          "base_uri": "https://localhost:8080/"
        },
        "outputId": "e6249db2-d0a8-499a-d7cd-1b154c84dc3f"
      },
      "execution_count": 28,
      "outputs": [
        {
          "metadata": {
            "tags": null
          },
          "name": "stdout",
          "output_type": "stream",
          "text": [
            "n_estimators: 40 \n",
            "learning_rate: 0.14714285714285716 \n",
            "max_depth: 2\n"
          ]
        }
      ]
    },
    {
      "cell_type": "code",
      "source": [
        "# записываем точность\n",
        "score.append(np.around(boost_tree.best_score_, 3))\n",
        "score_models.append('boost_tree_GS')\n",
        "print(score_models[3], ':', score[3])"
      ],
      "metadata": {
        "id": "f-QjVKMQsvFQ",
        "colab": {
          "base_uri": "https://localhost:8080/"
        },
        "outputId": "d3bc5f14-c040-4ce2-a9c9-88b5559e83a4"
      },
      "execution_count": 30,
      "outputs": [
        {
          "output_type": "stream",
          "name": "stdout",
          "text": [
            "boost_tree_GS : 0.822\n"
          ]
        }
      ]
    },
    {
      "cell_type": "markdown",
      "source": [
        "# Прогноз на отложенные наблюдения по лучшей модели\n",
        "Ещё раз посмотрим на точность построенных моделей."
      ],
      "metadata": {
        "id": "MgS81Ae1vjAK"
      }
    },
    {
      "cell_type": "code",
      "source": [
        "# сводка по точности моделей\n",
        "pd.DataFrame({'Модель' : score_models, 'Acc' : score})"
      ],
      "metadata": {
        "id": "A2z8p8t0svIF",
        "colab": {
          "base_uri": "https://localhost:8080/",
          "height": 174
        },
        "outputId": "04494e38-ebb1-42cc-d62f-45b0c0a714be"
      },
      "execution_count": 31,
      "outputs": [
        {
          "output_type": "execute_result",
          "data": {
            "text/plain": [
              "          Модель    Acc\n",
              "0       one_tree  0.722\n",
              "1    pruned_tree  0.737\n",
              "2  boost_tree_GS  0.822\n",
              "3  boost_tree_GS  0.822"
            ],
            "text/html": [
              "\n",
              "  <div id=\"df-485c67b8-db83-4723-9976-2ebf7c33f10a\" class=\"colab-df-container\">\n",
              "    <div>\n",
              "<style scoped>\n",
              "    .dataframe tbody tr th:only-of-type {\n",
              "        vertical-align: middle;\n",
              "    }\n",
              "\n",
              "    .dataframe tbody tr th {\n",
              "        vertical-align: top;\n",
              "    }\n",
              "\n",
              "    .dataframe thead th {\n",
              "        text-align: right;\n",
              "    }\n",
              "</style>\n",
              "<table border=\"1\" class=\"dataframe\">\n",
              "  <thead>\n",
              "    <tr style=\"text-align: right;\">\n",
              "      <th></th>\n",
              "      <th>Модель</th>\n",
              "      <th>Acc</th>\n",
              "    </tr>\n",
              "  </thead>\n",
              "  <tbody>\n",
              "    <tr>\n",
              "      <th>0</th>\n",
              "      <td>one_tree</td>\n",
              "      <td>0.722</td>\n",
              "    </tr>\n",
              "    <tr>\n",
              "      <th>1</th>\n",
              "      <td>pruned_tree</td>\n",
              "      <td>0.737</td>\n",
              "    </tr>\n",
              "    <tr>\n",
              "      <th>2</th>\n",
              "      <td>boost_tree_GS</td>\n",
              "      <td>0.822</td>\n",
              "    </tr>\n",
              "    <tr>\n",
              "      <th>3</th>\n",
              "      <td>boost_tree_GS</td>\n",
              "      <td>0.822</td>\n",
              "    </tr>\n",
              "  </tbody>\n",
              "</table>\n",
              "</div>\n",
              "    <div class=\"colab-df-buttons\">\n",
              "\n",
              "  <div class=\"colab-df-container\">\n",
              "    <button class=\"colab-df-convert\" onclick=\"convertToInteractive('df-485c67b8-db83-4723-9976-2ebf7c33f10a')\"\n",
              "            title=\"Convert this dataframe to an interactive table.\"\n",
              "            style=\"display:none;\">\n",
              "\n",
              "  <svg xmlns=\"http://www.w3.org/2000/svg\" height=\"24px\" viewBox=\"0 -960 960 960\">\n",
              "    <path d=\"M120-120v-720h720v720H120Zm60-500h600v-160H180v160Zm220 220h160v-160H400v160Zm0 220h160v-160H400v160ZM180-400h160v-160H180v160Zm440 0h160v-160H620v160ZM180-180h160v-160H180v160Zm440 0h160v-160H620v160Z\"/>\n",
              "  </svg>\n",
              "    </button>\n",
              "\n",
              "  <style>\n",
              "    .colab-df-container {\n",
              "      display:flex;\n",
              "      gap: 12px;\n",
              "    }\n",
              "\n",
              "    .colab-df-convert {\n",
              "      background-color: #E8F0FE;\n",
              "      border: none;\n",
              "      border-radius: 50%;\n",
              "      cursor: pointer;\n",
              "      display: none;\n",
              "      fill: #1967D2;\n",
              "      height: 32px;\n",
              "      padding: 0 0 0 0;\n",
              "      width: 32px;\n",
              "    }\n",
              "\n",
              "    .colab-df-convert:hover {\n",
              "      background-color: #E2EBFA;\n",
              "      box-shadow: 0px 1px 2px rgba(60, 64, 67, 0.3), 0px 1px 3px 1px rgba(60, 64, 67, 0.15);\n",
              "      fill: #174EA6;\n",
              "    }\n",
              "\n",
              "    .colab-df-buttons div {\n",
              "      margin-bottom: 4px;\n",
              "    }\n",
              "\n",
              "    [theme=dark] .colab-df-convert {\n",
              "      background-color: #3B4455;\n",
              "      fill: #D2E3FC;\n",
              "    }\n",
              "\n",
              "    [theme=dark] .colab-df-convert:hover {\n",
              "      background-color: #434B5C;\n",
              "      box-shadow: 0px 1px 3px 1px rgba(0, 0, 0, 0.15);\n",
              "      filter: drop-shadow(0px 1px 2px rgba(0, 0, 0, 0.3));\n",
              "      fill: #FFFFFF;\n",
              "    }\n",
              "  </style>\n",
              "\n",
              "    <script>\n",
              "      const buttonEl =\n",
              "        document.querySelector('#df-485c67b8-db83-4723-9976-2ebf7c33f10a button.colab-df-convert');\n",
              "      buttonEl.style.display =\n",
              "        google.colab.kernel.accessAllowed ? 'block' : 'none';\n",
              "\n",
              "      async function convertToInteractive(key) {\n",
              "        const element = document.querySelector('#df-485c67b8-db83-4723-9976-2ebf7c33f10a');\n",
              "        const dataTable =\n",
              "          await google.colab.kernel.invokeFunction('convertToInteractive',\n",
              "                                                    [key], {});\n",
              "        if (!dataTable) return;\n",
              "\n",
              "        const docLinkHtml = 'Like what you see? Visit the ' +\n",
              "          '<a target=\"_blank\" href=https://colab.research.google.com/notebooks/data_table.ipynb>data table notebook</a>'\n",
              "          + ' to learn more about interactive tables.';\n",
              "        element.innerHTML = '';\n",
              "        dataTable['output_type'] = 'display_data';\n",
              "        await google.colab.output.renderOutput(dataTable, element);\n",
              "        const docLink = document.createElement('div');\n",
              "        docLink.innerHTML = docLinkHtml;\n",
              "        element.appendChild(docLink);\n",
              "      }\n",
              "    </script>\n",
              "  </div>\n",
              "\n",
              "\n",
              "<div id=\"df-3e5e88a9-a5e6-44b2-8e28-e1dddc1b33f6\">\n",
              "  <button class=\"colab-df-quickchart\" onclick=\"quickchart('df-3e5e88a9-a5e6-44b2-8e28-e1dddc1b33f6')\"\n",
              "            title=\"Suggest charts\"\n",
              "            style=\"display:none;\">\n",
              "\n",
              "<svg xmlns=\"http://www.w3.org/2000/svg\" height=\"24px\"viewBox=\"0 0 24 24\"\n",
              "     width=\"24px\">\n",
              "    <g>\n",
              "        <path d=\"M19 3H5c-1.1 0-2 .9-2 2v14c0 1.1.9 2 2 2h14c1.1 0 2-.9 2-2V5c0-1.1-.9-2-2-2zM9 17H7v-7h2v7zm4 0h-2V7h2v10zm4 0h-2v-4h2v4z\"/>\n",
              "    </g>\n",
              "</svg>\n",
              "  </button>\n",
              "\n",
              "<style>\n",
              "  .colab-df-quickchart {\n",
              "      --bg-color: #E8F0FE;\n",
              "      --fill-color: #1967D2;\n",
              "      --hover-bg-color: #E2EBFA;\n",
              "      --hover-fill-color: #174EA6;\n",
              "      --disabled-fill-color: #AAA;\n",
              "      --disabled-bg-color: #DDD;\n",
              "  }\n",
              "\n",
              "  [theme=dark] .colab-df-quickchart {\n",
              "      --bg-color: #3B4455;\n",
              "      --fill-color: #D2E3FC;\n",
              "      --hover-bg-color: #434B5C;\n",
              "      --hover-fill-color: #FFFFFF;\n",
              "      --disabled-bg-color: #3B4455;\n",
              "      --disabled-fill-color: #666;\n",
              "  }\n",
              "\n",
              "  .colab-df-quickchart {\n",
              "    background-color: var(--bg-color);\n",
              "    border: none;\n",
              "    border-radius: 50%;\n",
              "    cursor: pointer;\n",
              "    display: none;\n",
              "    fill: var(--fill-color);\n",
              "    height: 32px;\n",
              "    padding: 0;\n",
              "    width: 32px;\n",
              "  }\n",
              "\n",
              "  .colab-df-quickchart:hover {\n",
              "    background-color: var(--hover-bg-color);\n",
              "    box-shadow: 0 1px 2px rgba(60, 64, 67, 0.3), 0 1px 3px 1px rgba(60, 64, 67, 0.15);\n",
              "    fill: var(--button-hover-fill-color);\n",
              "  }\n",
              "\n",
              "  .colab-df-quickchart-complete:disabled,\n",
              "  .colab-df-quickchart-complete:disabled:hover {\n",
              "    background-color: var(--disabled-bg-color);\n",
              "    fill: var(--disabled-fill-color);\n",
              "    box-shadow: none;\n",
              "  }\n",
              "\n",
              "  .colab-df-spinner {\n",
              "    border: 2px solid var(--fill-color);\n",
              "    border-color: transparent;\n",
              "    border-bottom-color: var(--fill-color);\n",
              "    animation:\n",
              "      spin 1s steps(1) infinite;\n",
              "  }\n",
              "\n",
              "  @keyframes spin {\n",
              "    0% {\n",
              "      border-color: transparent;\n",
              "      border-bottom-color: var(--fill-color);\n",
              "      border-left-color: var(--fill-color);\n",
              "    }\n",
              "    20% {\n",
              "      border-color: transparent;\n",
              "      border-left-color: var(--fill-color);\n",
              "      border-top-color: var(--fill-color);\n",
              "    }\n",
              "    30% {\n",
              "      border-color: transparent;\n",
              "      border-left-color: var(--fill-color);\n",
              "      border-top-color: var(--fill-color);\n",
              "      border-right-color: var(--fill-color);\n",
              "    }\n",
              "    40% {\n",
              "      border-color: transparent;\n",
              "      border-right-color: var(--fill-color);\n",
              "      border-top-color: var(--fill-color);\n",
              "    }\n",
              "    60% {\n",
              "      border-color: transparent;\n",
              "      border-right-color: var(--fill-color);\n",
              "    }\n",
              "    80% {\n",
              "      border-color: transparent;\n",
              "      border-right-color: var(--fill-color);\n",
              "      border-bottom-color: var(--fill-color);\n",
              "    }\n",
              "    90% {\n",
              "      border-color: transparent;\n",
              "      border-bottom-color: var(--fill-color);\n",
              "    }\n",
              "  }\n",
              "</style>\n",
              "\n",
              "  <script>\n",
              "    async function quickchart(key) {\n",
              "      const quickchartButtonEl =\n",
              "        document.querySelector('#' + key + ' button');\n",
              "      quickchartButtonEl.disabled = true;  // To prevent multiple clicks.\n",
              "      quickchartButtonEl.classList.add('colab-df-spinner');\n",
              "      try {\n",
              "        const charts = await google.colab.kernel.invokeFunction(\n",
              "            'suggestCharts', [key], {});\n",
              "      } catch (error) {\n",
              "        console.error('Error during call to suggestCharts:', error);\n",
              "      }\n",
              "      quickchartButtonEl.classList.remove('colab-df-spinner');\n",
              "      quickchartButtonEl.classList.add('colab-df-quickchart-complete');\n",
              "    }\n",
              "    (() => {\n",
              "      let quickchartButtonEl =\n",
              "        document.querySelector('#df-3e5e88a9-a5e6-44b2-8e28-e1dddc1b33f6 button');\n",
              "      quickchartButtonEl.style.display =\n",
              "        google.colab.kernel.accessAllowed ? 'block' : 'none';\n",
              "    })();\n",
              "  </script>\n",
              "</div>\n",
              "\n",
              "    </div>\n",
              "  </div>\n"
            ],
            "application/vnd.google.colaboratory.intrinsic+json": {
              "type": "dataframe",
              "summary": "{\n  \"name\": \"pd\",\n  \"rows\": 4,\n  \"fields\": [\n    {\n      \"column\": \"\\u041c\\u043e\\u0434\\u0435\\u043b\\u044c\",\n      \"properties\": {\n        \"dtype\": \"string\",\n        \"num_unique_values\": 3,\n        \"samples\": [\n          \"one_tree\",\n          \"pruned_tree\",\n          \"boost_tree_GS\"\n        ],\n        \"semantic_type\": \"\",\n        \"description\": \"\"\n      }\n    },\n    {\n      \"column\": \"Acc\",\n      \"properties\": {\n        \"dtype\": \"number\",\n        \"std\": 0.05375484474290044,\n        \"min\": 0.722,\n        \"max\": 0.822,\n        \"num_unique_values\": 3,\n        \"samples\": [\n          0.722,\n          0.737,\n          0.822\n        ],\n        \"semantic_type\": \"\",\n        \"description\": \"\"\n      }\n    }\n  ]\n}"
            }
          },
          "metadata": {},
          "execution_count": 31
        }
      ]
    },
    {
      "cell_type": "markdown",
      "source": [
        "Все модели показывают среднюю точность по показателю , при этом самой точной оказывается модель случайного леса. Сделаем прогноз на отложенные наблюдения."
      ],
      "metadata": {
        "id": "oSLpO_K6vobK"
      }
    },
    {
      "cell_type": "code",
      "source": [
        "# данные для прогноза\n",
        "X_pred = DF_predict.drop(['Y'], axis=1)\n",
        "# строим прогноз\n",
        "y_hat = boost_tree.best_estimator_.predict(X_pred)\n",
        "# характеристики точности\n",
        "print(classification_report(DF_predict['Y'], y_hat))"
      ],
      "metadata": {
        "colab": {
          "base_uri": "https://localhost:8080/"
        },
        "id": "bFhMY738vq-l",
        "outputId": "a446db63-d192-4fe1-bd96-eff583daa215"
      },
      "execution_count": 35,
      "outputs": [
        {
          "output_type": "stream",
          "name": "stdout",
          "text": [
            "              precision    recall  f1-score   support\n",
            "\n",
            "           0       0.83      0.96      0.89      3503\n",
            "           1       0.69      0.33      0.44       997\n",
            "\n",
            "    accuracy                           0.82      4500\n",
            "   macro avg       0.76      0.64      0.67      4500\n",
            "weighted avg       0.80      0.82      0.79      4500\n",
            "\n"
          ]
        }
      ]
    }
  ]
}